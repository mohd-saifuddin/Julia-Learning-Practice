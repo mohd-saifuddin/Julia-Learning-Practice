{
 "cells": [
  {
   "cell_type": "markdown",
   "id": "2c91eba9",
   "metadata": {},
   "source": [
    "### Implementing Markov Analysis on a book\n",
    "\n",
    "Source: I learned this topic from Edureka!"
   ]
  },
  {
   "cell_type": "code",
   "execution_count": 1,
   "id": "d2971634",
   "metadata": {},
   "outputs": [],
   "source": [
    "import random"
   ]
  },
  {
   "cell_type": "code",
   "execution_count": 2,
   "id": "11a04552",
   "metadata": {},
   "outputs": [],
   "source": [
    "class BookMarkovAnalysis:\n",
    "    \n",
    "    def __init__(self, file_loc):\n",
    "        self.file_loc = file_loc\n",
    "        with open(self.file_loc, \"r\") as book:\n",
    "            self.words = book.read().split()\n",
    "        self.words = [word.replace('--', ' ') for word in self.words]\n",
    "\n",
    "    def pairing_of_words(self):\n",
    "        pairs = []\n",
    "        for current in range(len(self.words)-1):\n",
    "            pairs.append((self.words[current], self.words[current+1]))\n",
    "        return pairs\n",
    "    \n",
    "    def markov_model(self):\n",
    "        lookup = {}\n",
    "        paired_words = self.pairing_of_words()\n",
    "        for (word_i, word_j) in paired_words:\n",
    "            if word_i in lookup.keys():\n",
    "                lookup[word_i].append(word_j)\n",
    "            else:\n",
    "                lookup[word_i] = [word_j]\n",
    "        return lookup\n",
    "    \n",
    "    def input_the_model(self):\n",
    "        first_word = random.choice(self.words)\n",
    "        while first_word[0].islower():\n",
    "            first_word = random.choice(self.words)\n",
    "        return first_word\n",
    "    \n",
    "    def predict(self, how_many=10):\n",
    "        lookup = self.markov_model()\n",
    "        first_word = self.input_the_model()\n",
    "        markov_chain = [first_word]\n",
    "        for count in range(how_many):\n",
    "            markov_chain.append(random.choice(lookup[markov_chain[-1]]))\n",
    "        markov_sentence = \" \".join(markov_chain)\n",
    "        if markov_sentence[-1] != '.':\n",
    "            markov_sentence = markov_sentence + '.'\n",
    "        return markov_sentence"
   ]
  },
  {
   "cell_type": "code",
   "execution_count": 3,
   "id": "00c80707",
   "metadata": {},
   "outputs": [
    {
     "name": "stdout",
     "output_type": "stream",
     "text": [
      "Elton was every probability sometimes pop out half so did not have done him to please herself, coming certain that she talked a female friendship. And as she immediately introduced, and with every day at first in that the first, while they passed over now.  `You must allow herself justified in safety. The boy of them seemed rather wondering questions. You might have happened which I never had been wrong, my dear Miss Hawkins  that's somebody about court-plaister, one nor respect.\" \"There is either reading and the manner. Command yourself too lucky, for the day will be misconstrued, and say, `No;'.\n"
     ]
    }
   ],
   "source": [
    "file_loc = \"../emma.txt\"\n",
    "book_model = BookMarkovAnalysis(file_loc=file_loc)\n",
    "predicted_sentence = book_model.predict(how_many=100)\n",
    "print(predicted_sentence)"
   ]
  },
  {
   "cell_type": "markdown",
   "id": "8fbc9d05",
   "metadata": {},
   "source": [
    "### End"
   ]
  }
 ],
 "metadata": {
  "kernelspec": {
   "display_name": "Python 3 (ipykernel)",
   "language": "python",
   "name": "python3"
  },
  "language_info": {
   "codemirror_mode": {
    "name": "ipython",
    "version": 3
   },
   "file_extension": ".py",
   "mimetype": "text/x-python",
   "name": "python",
   "nbconvert_exporter": "python",
   "pygments_lexer": "ipython3",
   "version": "3.9.7"
  }
 },
 "nbformat": 4,
 "nbformat_minor": 5
}
