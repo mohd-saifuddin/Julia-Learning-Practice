{
 "cells": [
  {
   "cell_type": "markdown",
   "id": "2c91eba9",
   "metadata": {},
   "source": [
    "### Implementing Markov Analysis on a book\n",
    "\n",
    "Source: I learned this topic from Edureka!"
   ]
  },
  {
   "cell_type": "code",
   "execution_count": 1,
   "id": "d2971634",
   "metadata": {},
   "outputs": [],
   "source": [
    "import random"
   ]
  },
  {
   "cell_type": "markdown",
   "id": "fbb57de6",
   "metadata": {},
   "source": [
    "#### Read the book"
   ]
  },
  {
   "cell_type": "code",
   "execution_count": 2,
   "id": "5b9c0ae9",
   "metadata": {},
   "outputs": [],
   "source": [
    "with open(file=\"../emma.txt\", mode=\"r\") as emmabook:\n",
    "    emmabook = emmabook.read()"
   ]
  },
  {
   "cell_type": "markdown",
   "id": "82d29e6e",
   "metadata": {},
   "source": [
    "#### Pair the words"
   ]
  },
  {
   "cell_type": "code",
   "execution_count": 3,
   "id": "e76384de",
   "metadata": {},
   "outputs": [],
   "source": [
    "def pairing(words):\n",
    "    for current in range(len(words)-1):\n",
    "        yield (words[current], words[current+1])"
   ]
  },
  {
   "cell_type": "markdown",
   "id": "a6069661",
   "metadata": {},
   "source": [
    "#### Construct the Markov Model"
   ]
  },
  {
   "cell_type": "code",
   "execution_count": 4,
   "id": "a0b7a413",
   "metadata": {},
   "outputs": [],
   "source": [
    "def book_markov_model(words):\n",
    "    lookup = {}\n",
    "    paired_words = pairing(words)\n",
    "    for (word_i, word_j) in paired_words:\n",
    "        if word_i in lookup.keys():\n",
    "            lookup[word_i].append(word_j)\n",
    "        else:\n",
    "            lookup[word_i] = [word_j]\n",
    "    return lookup"
   ]
  },
  {
   "cell_type": "markdown",
   "id": "1d613a67",
   "metadata": {},
   "source": [
    "#### Input"
   ]
  },
  {
   "cell_type": "code",
   "execution_count": 5,
   "id": "b6cdf150",
   "metadata": {},
   "outputs": [],
   "source": [
    "def select_first_word(words):\n",
    "    first_word = random.choice(words)\n",
    "    while first_word.islower():\n",
    "        first_word = random.choice(words)\n",
    "    return first_word"
   ]
  },
  {
   "cell_type": "markdown",
   "id": "173eac56",
   "metadata": {},
   "source": [
    "#### Predict"
   ]
  },
  {
   "cell_type": "code",
   "execution_count": 6,
   "id": "2f061f1a",
   "metadata": {},
   "outputs": [],
   "source": [
    "def predict(words, first_word, how_many=10):\n",
    "    lookup = book_markov_model(words=words)\n",
    "    markov_chain = [first_word]\n",
    "    for count in range(how_many):\n",
    "        markov_chain.append(random.choice(lookup[markov_chain[-1]]))\n",
    "    markov_sentence = \" \".join(markov_chain)\n",
    "    return markov_sentence"
   ]
  },
  {
   "cell_type": "code",
   "execution_count": 7,
   "id": "1ec899ba",
   "metadata": {},
   "outputs": [
    {
     "name": "stdout",
     "output_type": "stream",
     "text": [
      "affection.--Satisfied that person's disposition as white world could comprehend why do\n"
     ]
    }
   ],
   "source": [
    "words = emmabook.split()\n",
    "first_word = select_first_word(words=words)\n",
    "predicted = predict(words=words, first_word=first_word)\n",
    "print(predicted)"
   ]
  },
  {
   "cell_type": "code",
   "execution_count": null,
   "id": "37cf6bcb",
   "metadata": {},
   "outputs": [],
   "source": []
  }
 ],
 "metadata": {
  "kernelspec": {
   "display_name": "Python 3 (ipykernel)",
   "language": "python",
   "name": "python3"
  },
  "language_info": {
   "codemirror_mode": {
    "name": "ipython",
    "version": 3
   },
   "file_extension": ".py",
   "mimetype": "text/x-python",
   "name": "python",
   "nbconvert_exporter": "python",
   "pygments_lexer": "ipython3",
   "version": "3.9.7"
  }
 },
 "nbformat": 4,
 "nbformat_minor": 5
}
